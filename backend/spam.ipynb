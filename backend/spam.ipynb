{
 "cells": [
  {
   "cell_type": "code",
   "execution_count": 1,
   "id": "6d8947c2",
   "metadata": {},
   "outputs": [
    {
     "name": "stderr",
     "output_type": "stream",
     "text": [
      "[nltk_data] Downloading package punkt to /home/codespace/nltk_data...\n",
      "[nltk_data]   Package punkt is already up-to-date!\n",
      "[nltk_data] Downloading package punkt_tab to\n",
      "[nltk_data]     /home/codespace/nltk_data...\n",
      "[nltk_data]   Package punkt_tab is already up-to-date!\n",
      "[nltk_data] Downloading package stopwords to\n",
      "[nltk_data]     /home/codespace/nltk_data...\n",
      "[nltk_data]   Package stopwords is already up-to-date!\n"
     ]
    },
    {
     "data": {
      "text/plain": [
       "True"
      ]
     },
     "execution_count": 1,
     "metadata": {},
     "output_type": "execute_result"
    }
   ],
   "source": [
    "import pandas as pd\n",
    "import numpy as np\n",
    "import nltk\n",
    "import seaborn as sns\n",
    "import matplotlib.pyplot as plt\n",
    "\n",
    "from nltk.corpus import stopwords\n",
    "from nltk.stem.porter import PorterStemmer\n",
    "\n",
    "nltk.download('punkt')\n",
    "nltk.download('punkt_tab')\n",
    "nltk.download('stopwords')"
   ]
  },
  {
   "cell_type": "code",
   "execution_count": 2,
   "id": "769b4f5e",
   "metadata": {},
   "outputs": [
    {
     "data": {
      "text/html": [
       "<div>\n",
       "<style scoped>\n",
       "    .dataframe tbody tr th:only-of-type {\n",
       "        vertical-align: middle;\n",
       "    }\n",
       "\n",
       "    .dataframe tbody tr th {\n",
       "        vertical-align: top;\n",
       "    }\n",
       "\n",
       "    .dataframe thead th {\n",
       "        text-align: right;\n",
       "    }\n",
       "</style>\n",
       "<table border=\"1\" class=\"dataframe\">\n",
       "  <thead>\n",
       "    <tr style=\"text-align: right;\">\n",
       "      <th></th>\n",
       "      <th>v1</th>\n",
       "      <th>v2</th>\n",
       "      <th>Unnamed: 2</th>\n",
       "      <th>Unnamed: 3</th>\n",
       "      <th>Unnamed: 4</th>\n",
       "    </tr>\n",
       "  </thead>\n",
       "  <tbody>\n",
       "    <tr>\n",
       "      <th>2618</th>\n",
       "      <td>ham</td>\n",
       "      <td>Hey pple...$700 or $900 for 5 nights...Excelle...</td>\n",
       "      <td>NaN</td>\n",
       "      <td>NaN</td>\n",
       "      <td>NaN</td>\n",
       "    </tr>\n",
       "    <tr>\n",
       "      <th>787</th>\n",
       "      <td>spam</td>\n",
       "      <td>Ever thought about living a good life with a p...</td>\n",
       "      <td>NaN</td>\n",
       "      <td>NaN</td>\n",
       "      <td>NaN</td>\n",
       "    </tr>\n",
       "    <tr>\n",
       "      <th>4512</th>\n",
       "      <td>spam</td>\n",
       "      <td>Money i have won wining number 946 wot do i do...</td>\n",
       "      <td>NaN</td>\n",
       "      <td>NaN</td>\n",
       "      <td>NaN</td>\n",
       "    </tr>\n",
       "    <tr>\n",
       "      <th>5110</th>\n",
       "      <td>spam</td>\n",
       "      <td>You have 1 new message. Please call 08715205273</td>\n",
       "      <td>NaN</td>\n",
       "      <td>NaN</td>\n",
       "      <td>NaN</td>\n",
       "    </tr>\n",
       "    <tr>\n",
       "      <th>3712</th>\n",
       "      <td>ham</td>\n",
       "      <td>If i not meeting Ì_ all rite then i'll go home...</td>\n",
       "      <td>NaN</td>\n",
       "      <td>NaN</td>\n",
       "      <td>NaN</td>\n",
       "    </tr>\n",
       "  </tbody>\n",
       "</table>\n",
       "</div>"
      ],
      "text/plain": [
       "        v1                                                 v2 Unnamed: 2  \\\n",
       "2618   ham  Hey pple...$700 or $900 for 5 nights...Excelle...        NaN   \n",
       "787   spam  Ever thought about living a good life with a p...        NaN   \n",
       "4512  spam  Money i have won wining number 946 wot do i do...        NaN   \n",
       "5110  spam    You have 1 new message. Please call 08715205273        NaN   \n",
       "3712   ham  If i not meeting Ì_ all rite then i'll go home...        NaN   \n",
       "\n",
       "     Unnamed: 3 Unnamed: 4  \n",
       "2618        NaN        NaN  \n",
       "787         NaN        NaN  \n",
       "4512        NaN        NaN  \n",
       "5110        NaN        NaN  \n",
       "3712        NaN        NaN  "
      ]
     },
     "execution_count": 2,
     "metadata": {},
     "output_type": "execute_result"
    }
   ],
   "source": [
    "column_names = ['label']\n",
    "df = pd.read_csv('spam.csv', delimiter=',', encoding='latin-1')\n",
    "df.sample(5)"
   ]
  },
  {
   "cell_type": "code",
   "execution_count": 3,
   "id": "1744e966",
   "metadata": {},
   "outputs": [
    {
     "name": "stdout",
     "output_type": "stream",
     "text": [
      "<class 'pandas.core.frame.DataFrame'>\n",
      "RangeIndex: 5572 entries, 0 to 5571\n",
      "Data columns (total 5 columns):\n",
      " #   Column      Non-Null Count  Dtype \n",
      "---  ------      --------------  ----- \n",
      " 0   v1          5572 non-null   object\n",
      " 1   v2          5572 non-null   object\n",
      " 2   Unnamed: 2  50 non-null     object\n",
      " 3   Unnamed: 3  12 non-null     object\n",
      " 4   Unnamed: 4  6 non-null      object\n",
      "dtypes: object(5)\n",
      "memory usage: 217.8+ KB\n"
     ]
    }
   ],
   "source": [
    "df.info()\n",
    "#need to clean data up was read in very messy have 5 columns"
   ]
  },
  {
   "cell_type": "code",
   "execution_count": 4,
   "id": "fd7d7f4b",
   "metadata": {},
   "outputs": [
    {
     "name": "stdout",
     "output_type": "stream",
     "text": [
      "<class 'pandas.core.frame.DataFrame'>\n",
      "RangeIndex: 5572 entries, 0 to 5571\n",
      "Data columns (total 2 columns):\n",
      " #   Column   Non-Null Count  Dtype \n",
      "---  ------   --------------  ----- \n",
      " 0   label    5572 non-null   object\n",
      " 1   message  5572 non-null   object\n",
      "dtypes: object(2)\n",
      "memory usage: 87.2+ KB\n"
     ]
    }
   ],
   "source": [
    "#going to drop the unnamed columns as they are irrelelvant and are mostly null\n",
    "#ex unnamed 4 only has 6 non null objects out of 5572 rows\n",
    "df = df.drop(columns=['Unnamed: 2', 'Unnamed: 3', 'Unnamed: 4'])\n",
    "\n",
    "#rename v1 and v2 columns, v1 = ham/spam, v2 = message\n",
    "df = df.rename(columns={'v1': 'label', 'v2': 'message'})\n",
    "df.info()"
   ]
  },
  {
   "cell_type": "code",
   "execution_count": 5,
   "id": "fbe723fe",
   "metadata": {},
   "outputs": [
    {
     "data": {
      "text/plain": [
       "np.int64(403)"
      ]
     },
     "execution_count": 5,
     "metadata": {},
     "output_type": "execute_result"
    }
   ],
   "source": [
    "#check for missing and duplicate values\n",
    "df.duplicated().sum()"
   ]
  },
  {
   "cell_type": "code",
   "execution_count": 6,
   "id": "d4fc2739",
   "metadata": {},
   "outputs": [
    {
     "data": {
      "text/plain": [
       "(5169, 2)"
      ]
     },
     "execution_count": 6,
     "metadata": {},
     "output_type": "execute_result"
    }
   ],
   "source": [
    "#have 403 duplicates can drop\n",
    "df.drop_duplicates(inplace=True)\n",
    "#we keep first one\n",
    "df.shape"
   ]
  },
  {
   "cell_type": "code",
   "execution_count": 7,
   "id": "8c5f2eeb",
   "metadata": {},
   "outputs": [
    {
     "data": {
      "text/plain": [
       "label      0\n",
       "message    0\n",
       "dtype: int64"
      ]
     },
     "execution_count": 7,
     "metadata": {},
     "output_type": "execute_result"
    }
   ],
   "source": [
    "#check how many rows have missing values\n",
    "df.isnull().sum()\n",
    "#no missing value rows so we dont have to do it"
   ]
  },
  {
   "cell_type": "code",
   "execution_count": 8,
   "id": "c739b1ff",
   "metadata": {},
   "outputs": [
    {
     "name": "stdout",
     "output_type": "stream",
     "text": [
      "label counts, ham vs spam\n",
      "label\n",
      "ham     4516\n",
      "spam     653\n",
      "Name: count, dtype: int64\n",
      "label %\n",
      "label\n",
      "ham     87.366996\n",
      "spam    12.633004\n",
      "Name: proportion, dtype: float64\n"
     ]
    }
   ],
   "source": [
    "#eda to summarize main characteristics and find outliers\n",
    "print(\"label counts, ham vs spam\")\n",
    "print(df['label'].value_counts())\n",
    "\n",
    "print(\"label %\")\n",
    "print(df['label'].value_counts(normalize=True) * 100)"
   ]
  },
  {
   "cell_type": "code",
   "execution_count": 9,
   "id": "0285fdf2",
   "metadata": {},
   "outputs": [
    {
     "name": "stdout",
     "output_type": "stream",
     "text": [
      "count    5169.000000\n",
      "mean       78.977945\n",
      "std        58.236293\n",
      "min         2.000000\n",
      "25%        36.000000\n",
      "50%        60.000000\n",
      "75%       117.000000\n",
      "max       910.000000\n",
      "Name: message_len, dtype: float64\n"
     ]
    }
   ],
   "source": [
    "#dataset is highly imbalanced will have to oversample and undersample likely to avoid bais\n",
    "#next get info on messages and their length\n",
    "\n",
    "#creates new column\n",
    "df['message_len'] = df['message'].apply(len)\n",
    "print(df['message_len'].describe())\n",
    "#lots of varaiance however mean len is 78 with max being 910"
   ]
  },
  {
   "cell_type": "code",
   "execution_count": 10,
   "id": "6e492362",
   "metadata": {},
   "outputs": [
    {
     "name": "stdout",
     "output_type": "stream",
     "text": [
      "count    4516.000000\n",
      "mean       14.134632\n",
      "std        11.116240\n",
      "min         1.000000\n",
      "25%         7.000000\n",
      "50%        11.000000\n",
      "75%        18.000000\n",
      "max       171.000000\n",
      "Name: num_words, dtype: float64\n",
      "count    653.000000\n",
      "mean      23.681470\n",
      "std        5.967672\n",
      "min        2.000000\n",
      "25%       22.000000\n",
      "50%       25.000000\n",
      "75%       28.000000\n",
      "max       35.000000\n",
      "Name: num_words, dtype: float64\n"
     ]
    }
   ],
   "source": [
    "#try to differentiate lengths for ham vs spam\n",
    "# print(df[df['label'] == 'ham']['message_len'].describe())\n",
    "# print(df[df['label'] == 'spam']['message_len'].describe())\n",
    "\n",
    "#word count probably better indicator than characters\n",
    "#add  a new row with number of words\n",
    "df['num_words'] = df['message'].apply(lambda x:len(x.split()))\n",
    "print(df[df['label'] == 'ham']['num_words'].describe())\n",
    "print(df[df['label'] == 'spam']['num_words'].describe())\n",
    "#spam tends to be a lot longer\n",
    "\n",
    "#make another row for special character (ex congratulations!! 100% free)\n",
    "#or just other special characters to try and avoid detection\n",
    "df['numspecial_chars'] = df['message'].apply(lambda x: len([char for char in x if char in '!$%?_@*()']))\n"
   ]
  },
  {
   "cell_type": "code",
   "execution_count": 11,
   "id": "144d38f7",
   "metadata": {},
   "outputs": [
    {
     "data": {
      "text/plain": [
       "<Axes: xlabel='num_words', ylabel='Count'>"
      ]
     },
     "execution_count": 11,
     "metadata": {},
     "output_type": "execute_result"
    },
    {
     "data": {
      "image/png": "[encoded data removed]",
      "text/plain": [
       "<Figure size 800x600 with 1 Axes>"
      ]
     },
     "metadata": {},
     "output_type": "display_data"
    }
   ],
   "source": [
    "plt.figure(figsize=(8, 6))\n",
    "sns.histplot(df[df['label'] == 'ham']['num_words'])\n",
    "sns.histplot(df[df['label'] == 'spam']['num_words'], color='orange')\n",
    "#graph isn't corected for data will do later"
   ]
  },
  {
   "cell_type": "code",
   "execution_count": 12,
   "id": "460069c0",
   "metadata": {},
   "outputs": [],
   "source": [
    "#preprocess data, get it ready for training\n",
    "#I'm going to focus on wording to see which words are associated heavier with spam\n",
    "#will tokenize messages to get words\n",
    "#import the stopwords and stemmer from nltk so we can generalize data better\n",
    "\n",
    "ps = PorterStemmer()\n",
    "stopWordss = stopwords.words('english')\n",
    "\n",
    "def preprocess_text(text):\n",
    "    text = text.lower() #keep everything same case for ascii\n",
    "    wordToken = nltk.word_tokenize(text) #split text to words\n",
    "    processedList = []\n",
    "    for word in wordToken:\n",
    "        if word.isalnum():#if word is alpha numeric only\n",
    "            if word not in stopWordss:\n",
    "                processedList.append(ps.stem(word))\n",
    "    return \" \".join(processedList) #joins all processed words into single string\n",
    "    "
   ]
  },
  {
   "cell_type": "code",
   "execution_count": 13,
   "id": "f7e3e3d0",
   "metadata": {},
   "outputs": [
    {
     "data": {
      "text/plain": [
       "'forget tell want need crave love sweet arabian steed mmmmmm yummi'"
      ]
     },
     "execution_count": 13,
     "metadata": {},
     "output_type": "execute_result"
    }
   ],
   "source": [
    "df['processedMessage'] = df['message'].apply(preprocess_text)\n",
    "\n",
    "df['processedMessage'][41]\n",
    "#have tokenized and cleaned up words"
   ]
  },
  {
   "cell_type": "code",
   "execution_count": 14,
   "id": "a77b9a03",
   "metadata": {},
   "outputs": [],
   "source": [
    "spamWordList = []\n",
    "hamWordList = []\n",
    "\n",
    "for m in df[df['label'] == 'spam']['processedMessage'].tolist():\n",
    "    for word in m.split():\n",
    "        spamWordList.append(word)\n",
    "\n",
    "for m in df[df['label'] == 'ham']['processedMessage'].tolist():\n",
    "    for word in m.split():\n",
    "        hamWordList.append(word)\n",
    "\n"
   ]
  },
  {
   "cell_type": "code",
   "execution_count": 15,
   "id": "64984444",
   "metadata": {},
   "outputs": [],
   "source": [
    "#will get the top 20 words"
   ]
  },
  {
   "cell_type": "code",
   "execution_count": null,
   "id": "8f443978",
   "metadata": {},
   "outputs": [],
   "source": []
  },
  {
   "cell_type": "code",
   "execution_count": 16,
   "id": "8389fae2",
   "metadata": {},
   "outputs": [
    {
     "name": "stdout",
     "output_type": "stream",
     "text": [
      "Accuracy:  0.8423597678916828\n",
      "Classification report:                precision    recall  f1-score   support\n",
      "\n",
      "         ham       0.97      0.84      0.90       903\n",
      "        spam       0.44      0.83      0.57       131\n",
      "\n",
      "    accuracy                           0.84      1034\n",
      "   macro avg       0.70      0.84      0.74      1034\n",
      "weighted avg       0.90      0.84      0.86      1034\n",
      "\n",
      "Confusion matrix:  [[762 141]\n",
      " [ 22 109]]\n"
     ]
    }
   ],
   "source": [
    "from sklearn.feature_extraction.text import CountVectorizer\n",
    "from sklearn.model_selection import train_test_split\n",
    "from sklearn.naive_bayes import MultinomialNB\n",
    "from sklearn.metrics import classification_report, accuracy_score, confusion_matrix\n",
    "import pandas as pd\n",
    "from sklearn.naive_bayes import GaussianNB\n",
    "from sklearn.feature_extraction.text import TfidfVectorizer\n",
    "\n",
    "X = df['processedMessage']\n",
    "Y = df['label'].map({'ham': 0, 'spam': 1})\n",
    "\n",
    "X_train, X_test, y_train, y_test = train_test_split(X, Y, test_size=0.2, random_state=19, stratify=Y)\n",
    "\n",
    "cv = TfidfVectorizer(max_features=3000) #we limit the amount of features to handle for memory and overfitting\n",
    "X_train_tfidf = cv.fit_transform(X_train)\n",
    "X_test_tfidf = cv.transform(X_test)\n",
    "\n",
    "#gaussian matrix requires array to store all values explicitly\n",
    "X_train_arr = X_train_tfidf.toarray()\n",
    "X_test_arr = X_test_tfidf.toarray()\n",
    "\n",
    "#can implement with class priors\n",
    "\n",
    "spam_prior = y_train.mean()\n",
    "ham_prior = 1 - spam_prior\n",
    "\n",
    "priors = [0.5, 0.5] # set equal for ham and spam\n",
    "\n",
    "gaussianMod = GaussianNB(priors=priors)\n",
    "gaussianMod.fit(X_train_arr, y_train)\n",
    "\n",
    "y_pred = gaussianMod.predict(X_test_arr)\n",
    "\n",
    "print(\"Accuracy: \", accuracy_score(y_test, y_pred))\n",
    "print(\"Classification report: \", classification_report(y_test, y_pred, target_names=['ham', 'spam']))\n",
    "print(\"Confusion matrix: \", confusion_matrix(y_test, y_pred))"
   ]
  },
  {
   "cell_type": "code",
   "execution_count": 17,
   "id": "ba99929a",
   "metadata": {},
   "outputs": [
    {
     "name": "stdout",
     "output_type": "stream",
     "text": [
      "Accuracy:  0.9825918762088974\n",
      "Classification report:                precision    recall  f1-score   support\n",
      "\n",
      "         ham       0.98      1.00      0.99       903\n",
      "        spam       0.97      0.89      0.93       131\n",
      "\n",
      "    accuracy                           0.98      1034\n",
      "   macro avg       0.98      0.94      0.96      1034\n",
      "weighted avg       0.98      0.98      0.98      1034\n",
      "\n",
      "Confusion matrix:  [[899   4]\n",
      " [ 14 117]]\n"
     ]
    }
   ],
   "source": [
    "#build model, going to start with naive bayes as that goes off word count\n",
    "#naive bayes input has two words (dear friend) probably that it is in category a is\n",
    "#P(a) * P(dear) * P(Friend), issue where a 0 percent chance where word doesn't show up in sample set\n",
    "#can fix by incrementing count\n",
    "\n",
    "#include class weights as dataset is skewed\n",
    "#laplace smoothing helps fix probability 0 returns\n",
    "\n",
    "\n",
    "\n",
    "X = df['processedMessage']\n",
    "Y = df['label'].map({'ham': 0, 'spam': 1}) #want to predict Y scikit also wants nubmer\n",
    "\n",
    "X_train, X_test, y_train, y_test = train_test_split(X, Y, test_size=0.2, random_state=19, stratify=Y)\n",
    "#allocate 20% of data to test and 80% to train\n",
    "\n",
    "cv = CountVectorizer()\n",
    "#converts each mmessage to numeric vector with vocubalary from trraining data\n",
    "X_train_vec = cv.fit_transform(X_train)\n",
    "X_test_vec = cv.transform(X_test)\n",
    "\n",
    "#fit_prior = true allows for us to adjust for biases based off skewed data\n",
    "#model wil learn class priors based on the dataset imbalance\n",
    "# naiveBayesMod = MultinomialNB(alpha=1.0, fit_prior=True, class_prior=[0.5, 0.5]) #add laplace smoothing so no 0 prob\n",
    "naiveBayesMod = MultinomialNB(alpha=1.0, fit_prior=True)\n",
    "naiveBayesMod.fit(X_train_vec, y_train)\n",
    "\n",
    "y_pred = naiveBayesMod.predict(X_test_vec)\n",
    "\n",
    "print(\"Accuracy: \", accuracy_score(y_test, y_pred))\n",
    "print(\"Classification report: \", classification_report(y_test, y_pred, target_names=['ham', 'spam']))\n",
    "print(\"Confusion matrix: \", confusion_matrix(y_test, y_pred))"
   ]
  },
  {
   "cell_type": "code",
   "execution_count": 18,
   "id": "725358be",
   "metadata": {},
   "outputs": [],
   "source": [
    "#prepare for web deployment\n",
    "import pickle\n",
    "\n",
    "pickle.dump(cv, open('naiveBayes.pkl', 'wb'))\n",
    "pickle.dump(naiveBayesMod, open('spamModel.pkl', 'wb'))"
   ]
  }
 ],
 "metadata": {
  "kernelspec": {
   "display_name": "Python 3",
   "language": "python",
   "name": "python3"
  },
  "language_info": {
   "codemirror_mode": {
    "name": "ipython",
    "version": 3
   },
   "file_extension": ".py",
   "mimetype": "text/x-python",
   "name": "python",
   "nbconvert_exporter": "python",
   "pygments_lexer": "ipython3",
   "version": "3.12.1"
  }
 },
 "nbformat": 4,
 "nbformat_minor": 5
}
